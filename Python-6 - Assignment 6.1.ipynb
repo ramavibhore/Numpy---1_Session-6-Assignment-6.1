{
 "cells": [
  {
   "cell_type": "code",
   "execution_count": 45,
   "metadata": {},
   "outputs": [
    {
     "name": "stdout",
     "output_type": "stream",
     "text": [
      "------------Vandermonde Matrix - Vandor Method ----------------\n",
      "[[  1   1   1   1]\n",
      " [  8   4   2   1]\n",
      " [ 27   9   3   1]\n",
      " [125  25   5   1]]\n",
      "-------------Vandermonde Matrix - Column Stack Method ----------------\n",
      "[[  1   1   1   1]\n",
      " [  8   4   2   1]\n",
      " [ 27   9   3   1]\n",
      " [125  25   5   1]]\n"
     ]
    }
   ],
   "source": [
    "import numpy as np\n",
    "x=np.array([1,2,3,5])  # 1-D Input Array as Input\n",
    "N=int(input('Enter Number of Columns(greater than 0) needed in the Vandermonde Matrix: '))  # N is Number of columns in the output. If N is not specified, it will use default length of input array. N=len(x)\n",
    "increasing=input('Enter True or False for increasing: ') #This is boolean input to determine the order of the powers of the column.\n",
    "\n",
    "#if increasing is True -> the columns are x^0,x^1...x^N-1 (the powers increase from left to right)\n",
    "## if increasing is False -> the columns are x^N-1,x^N-2...x^0 (the powers increase from right to left)\n",
    "\n",
    "#method_program = int(input(\"Which method you want to use? Enter 1 -> VANDER METHOD; Enter 2 -> COLUMN STACK METHOD: \"))\n",
    "\n",
    "\n",
    "##Function 1 -> Matrix Generation using Vander method\n",
    "def vander_method(x,N,increasing):\n",
    "\tif N==0 and increasing=='False':\n",
    "\t\tvandermonde_matrix=np.vander(x) # increasing is defaulted to \"False\"\n",
    "\telif N==0 and increasing=='True':\n",
    "\t\tvandermonde_matrix=np.vander(x,increasing=True) \n",
    "\telif N>0 and increasing=='False':\n",
    "\t\tvandermonde_matrix=np.vander(x,N) #increasing is defaulted to \"False\"\n",
    "\telif N>0 and increasing=='True':\n",
    "\t\tvandermonde_matrix=np.vander(x,N,increasing=True) \n",
    "\t\t\n",
    "\tprint('------------Vandermonde Matrix - Vandor Method ----------------')\n",
    "\tprint(vandermonde_matrix)\n",
    "\t\t\n",
    "\t\n",
    "\n",
    "##Function 2 -> Matrix Generation using Column Stack method\n",
    "def col_stackmethod(x,N,increasing):     # Column Stack method \n",
    "\tif N==0 and increasing=='False':\n",
    "\t\tvandermonde_matrix=np.column_stack([x**(N-i-1) for i in range(N)]) # increasing is defaulted to \"False\"\n",
    "\telif N==0 and increasing=='True':\n",
    "\t\tvandermonde_matrix=np.column_stack([x**(N-i-1) for i in range(N-1,-1,-1)]) \n",
    "\telif N>0 and increasing=='False':\n",
    "\t\tvandermonde_matrix=np.column_stack([x**(N-i-1) for i in range(N)]) # increasing is defaulted to \"False\"\n",
    "\telif N>0 and increasing=='True':\n",
    "\t\tvandermonde_matrix=np.column_stack([x**(N-i-1) for i in range(N-1,-1,-1)]) \n",
    "\t\t\n",
    "\tprint('-------------Vandermonde Matrix - Column Stack Method ----------------')\n",
    "\tprint(vandermonde_matrix)\n",
    "\t\n",
    "\n",
    "\t\t\n",
    "def main():       # Defining main function to call Vander_method or col_stackmethod function\n",
    "    #if method_program == 1:\n",
    "    vander_method(x,N,increasing)\n",
    "    #else:\n",
    "    col_stackmethod(x,N,increasing)\n",
    "\n",
    "if __name__ == '__main__':      \n",
    "\tmain()"
   ]
  },
  {
   "cell_type": "code",
   "execution_count": null,
   "metadata": {},
   "outputs": [],
   "source": []
  }
 ],
 "metadata": {
  "kernelspec": {
   "display_name": "Python 3",
   "language": "python",
   "name": "python3"
  },
  "language_info": {
   "codemirror_mode": {
    "name": "ipython",
    "version": 3
   },
   "file_extension": ".py",
   "mimetype": "text/x-python",
   "name": "python",
   "nbconvert_exporter": "python",
   "pygments_lexer": "ipython3",
   "version": "3.6.4"
  }
 },
 "nbformat": 4,
 "nbformat_minor": 2
}
